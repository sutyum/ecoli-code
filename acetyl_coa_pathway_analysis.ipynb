{
 "cells": [
  {
   "cell_type": "markdown",
   "metadata": {},
   "source": [
    "# E. coli Metabolic Pathway Analysis: Acetyl-CoA to C8-C12 Fatty Acids\n",
    "\n",
    "This notebook explores optimized metabolic pathways for converting Acetyl-CoA to C8-C12 fatty acids in E. coli using flux balance analysis (FBA).\n",
    "\n",
    "## Project Context\n",
    "- Target: C8-C12 fatty acids for sustainable aviation fuel (SAF)\n",
    "- Challenge: Achieve ≥ 30 g L⁻¹ h⁻¹ space-time yield\n",
    "- Approach: Cell-free enzymatic systems with reverse β-oxidation"
   ]
  },
  {
   "cell_type": "code",
   "execution_count": 3,
   "metadata": {},
   "outputs": [],
   "source": [
    "import cobra\n",
    "import numpy as np\n",
    "import pandas as pd\n",
    "import matplotlib.pyplot as plt\n",
    "import seaborn as sns\n",
    "from cobra.flux_analysis import flux_variability_analysis\n",
    "from cobra.core import Reaction, Metabolite\n",
    "\n",
    "# Set plotting style\n",
    "plt.style.use('seaborn-v0_8')\n",
    "sns.set_palette(\"husl\")"
   ]
  },
  {
   "cell_type": "markdown",
   "metadata": {},
   "source": [
    "## 1. Load E. coli Genome-Scale Model\n",
    "\n",
    "We'll use the iML1515 model, a comprehensive genome-scale metabolic model of E. coli."
   ]
  },
  {
   "cell_type": "code",
   "execution_count": 4,
   "metadata": {},
   "outputs": [
    {
     "data": {
      "application/vnd.jupyter.widget-view+json": {
       "model_id": "24a5bbc6fc21494e83eb10e2bf438b2c",
       "version_major": 2,
       "version_minor": 0
      },
      "text/plain": [
       "Output()"
      ]
     },
     "metadata": {},
     "output_type": "display_data"
    },
    {
     "data": {
      "text/html": [
       "<pre style=\"white-space:pre;overflow-x:auto;line-height:normal;font-family:Menlo,'DejaVu Sans Mono',consolas,'Courier New',monospace\"></pre>\n"
      ],
      "text/plain": []
     },
     "metadata": {},
     "output_type": "display_data"
    },
    {
     "name": "stdout",
     "output_type": "stream",
     "text": [
      "Model: iML1515\n",
      "Number of reactions: 2712\n",
      "Number of metabolites: 1877\n",
      "Number of genes: 1516\n"
     ]
    }
   ],
   "source": [
    "# Load the E. coli iML1515 model\n",
    "model = cobra.io.load_model(\"iML1515\")\n",
    "\n",
    "print(f\"Model: {model.id}\")\n",
    "print(f\"Number of reactions: {len(model.reactions)}\")\n",
    "print(f\"Number of metabolites: {len(model.metabolites)}\")\n",
    "print(f\"Number of genes: {len(model.genes)}\")"
   ]
  },
  {
   "cell_type": "markdown",
   "metadata": {},
   "source": [
    "## 2. Identify Key Metabolites and Reactions\n",
    "\n",
    "First, let's identify the key metabolites and reactions involved in fatty acid synthesis."
   ]
  },
  {
   "cell_type": "code",
   "execution_count": 5,
   "metadata": {},
   "outputs": [
    {
     "name": "stdout",
     "output_type": "stream",
     "text": [
      "Acetyl-CoA: Acetyl-CoA\n",
      "\n",
      "Relevant C8-C12 fatty acid metabolites:\n",
      "  2agpg120_c: 2-Acyl-sn-glycero-3-phosphoglycerol (n-C12:0)\n",
      "  12dgr180_p: 1,2-Diacyl-sn-glycerol (dioctadecanoyl, n-C18:0)\n",
      "  2agpe120_c: 2-Acyl-sn-glycero-3-phosphoethanolamine (n-C12:0)\n",
      "  3hoctaACP_c: (R)-3-Hydroxyoctadecanoyl-[acyl-carrier protein]\n",
      "  3odecACP_c: 3-Oxodecanoyl-[acyl-carrier protein]\n",
      "  3hoctACP_c: (R)-3-Hydroxyoctanoyl-[acyl-carrier protein]\n",
      "  12dgr140_p: 1,2-Diacyl-sn-glycerol (ditetradecanoyl, n-C14:0)\n",
      "  apg120_c: Acyl phosphatidylglycerol (n-C12:0)\n",
      "  12dgr160_c: 1,2-Diacyl-sn-glycerol (dihexadecanoyl, n-C16:0)\n",
      "  2agpg120_p: 2-Acyl-sn-glycero-3-phosphoglycerol (n-C12:0)\n",
      "  1agpe120_p: 1-Acyl-sn-glycero-3-phosphoethanolamine (n-C12:0)\n",
      "  12dgr140_c: 1,2-Diacyl-sn-glycerol (ditetradecanoyl, n-C14:0)\n",
      "  12dgr120_p: 1,2-Diacyl-sn-glycerol (didodecanoyl, n-C12:0)\n",
      "  12dgr120_c: 1,2-Diacyl-sn-glycerol (didodecanoyl, n-C12:0)\n",
      "  3hddecACP_c: (R)-3-Hydroxydodecanoyl-[acyl-carrier protein]\n",
      "  cddec5eACP_c: Cis-dodec-5-enoyl-[acyl-carrier protein] (n-C12:1)\n",
      "  3hdecACP_c: (R)-3-Hydroxydecanoyl-[acyl-carrier protein]\n",
      "  cdec3eACP_c: Cis-dec-3-enoyl-[acyl-carrier protein] (n-C10:1)\n",
      "  3oddecACP_c: 3-Oxododecanoyl-[acyl-carrier protein]\n",
      "  3ooctdACP_c: 3-Oxooctadecanoyl-[acyl-carrier protein]\n",
      "  12dgr180_c: 1,2-Diacyl-sn-glycerol (dioctadecanoyl, n-C18:0)\n",
      "  3opalmACP_c: 3-Oxohexadecanoyl-[acyl-carrier protein]\n",
      "  3omrsACP_c: 3-Oxotetradecanoyl-[acyl-carrier protein]\n",
      "  3hmrsACP_c: (R)-3-Hydroxytetradecanoyl-[acyl-carrier protein]\n",
      "  3ooctACP_c: 3-Oxooctanoyl-[acyl-carrier protein]\n",
      "  2agpe120_p: 2-Acyl-sn-glycero-3-phosphoethanolamine (n-C12:0)\n",
      "  12dgr160_p: 1,2-Diacyl-sn-glycerol (dihexadecanoyl, n-C16:0)\n",
      "  1agpg120_p: 1-Acyl-sn-glycero-3-phosphoglycerol (n-C12:0)\n"
     ]
    }
   ],
   "source": [
    "# Find acetyl-CoA and fatty acid related metabolites\n",
    "acetyl_coa = model.metabolites.get_by_id(\"accoa_c\")\n",
    "print(f\"Acetyl-CoA: {acetyl_coa.name}\")\n",
    "\n",
    "# Search for fatty acid metabolites\n",
    "fatty_acids = []\n",
    "for met in model.metabolites:\n",
    "    if \"fatty\" in met.name.lower() or \"acyl\" in met.name.lower():\n",
    "        if any(x in met.name.lower() for x in [\"c8\", \"c10\", \"c12\", \"octanoyl\", \"decanoyl\", \"dodecanoyl\"]):\n",
    "            fatty_acids.append(met)\n",
    "\n",
    "print(\"\\nRelevant C8-C12 fatty acid metabolites:\")\n",
    "for fa in fatty_acids:\n",
    "    print(f\"  {fa.id}: {fa.name}\")"
   ]
  },
  {
   "cell_type": "markdown",
   "metadata": {},
   "source": [
    "## 3. Analyze Fatty Acid Synthesis Pathways\n",
    "\n",
    "Let's examine the reactions involved in fatty acid synthesis and identify the key enzymes."
   ]
  },
  {
   "cell_type": "code",
   "execution_count": 6,
   "metadata": {},
   "outputs": [
    {
     "name": "stdout",
     "output_type": "stream",
     "text": [
      "Key fatty acid synthesis reactions:\n",
      "  U23GAAT: UDP-3-O-(3-hydroxymyristoyl)glucosamine acyltransferase\n",
      "    Reaction: 3hmrsACP_c + u3hga_c --> ACP_c + h_c + u23ga_c\n",
      "\n",
      "  UAGAAT: UDP-N-acetylglucosamine acyltransferase\n",
      "    Reaction: 3hmrsACP_c + uacgam_c <=> ACP_c + u3aga_c\n",
      "\n",
      "  ACOATA: Acetyl-CoA ACP transacylase\n",
      "    Reaction: ACP_c + accoa_c <=> acACP_c + coa_c\n",
      "\n",
      "  ACACT7r: Acetyl-CoA C-acyltransferase (tetradecanoyl-CoA) (r)\n",
      "    Reaction: accoa_c + tdcoa_c <=> 3ohdcoa_c + coa_c\n",
      "\n",
      "  ACACT2r: Acetyl-CoA C-acyltransferase (butanoyl-CoA) (r)\n",
      "    Reaction: accoa_c + btcoa_c <=> 3ohcoa_c + coa_c\n",
      "\n",
      "  ACACT3r: Acetyl-CoA C-acyltransferase (hexanoyl-CoA) (r)\n",
      "    Reaction: accoa_c + hxcoa_c <=> 3oocoa_c + coa_c\n",
      "\n",
      "  ACACT4r: Acetyl-CoA C-acyltransferase (octanoyl-CoA) (r)\n",
      "    Reaction: accoa_c + occoa_c <=> 3odcoa_c + coa_c\n",
      "\n",
      "  ACACT5r: Acetyl-CoA C-acyltransferase (decanoyl-CoA) (r)\n",
      "    Reaction: accoa_c + dcacoa_c <=> 3oddcoa_c + coa_c\n",
      "\n",
      "  ACACT6r: Acetyl-CoA C-acyltransferase (dodecanoyl-CoA) (r)\n",
      "    Reaction: accoa_c + ddcacoa_c <=> 3otdcoa_c + coa_c\n",
      "\n",
      "  LPLIPAL2ATG120: Lysophospholipase L2 (acyltransferase, 2-acyl-glycerophosphoglycerol, n-C12:0)\n",
      "    Reaction: 2agpg120_c + pg120_c --> apg120_c + g3pg_c\n",
      "\n"
     ]
    }
   ],
   "source": [
    "# Find reactions related to fatty acid synthesis\n",
    "fas_reactions = []\n",
    "for rxn in model.reactions:\n",
    "    if any(met in rxn.metabolites for met in [acetyl_coa] + fatty_acids):\n",
    "        if \"fatty\" in rxn.name.lower() or \"acyl\" in rxn.name.lower():\n",
    "            fas_reactions.append(rxn)\n",
    "\n",
    "print(\"Key fatty acid synthesis reactions:\")\n",
    "for rxn in fas_reactions[:10]:  # Show first 10\n",
    "    print(f\"  {rxn.id}: {rxn.name}\")\n",
    "    print(f\"    Reaction: {rxn.reaction}\")\n",
    "    print()"
   ]
  },
  {
   "cell_type": "markdown",
   "metadata": {},
   "source": [
    "## 4. Set Up Optimization for C8-C12 Production\n",
    "\n",
    "We'll modify the model to optimize for C8-C12 fatty acid production."
   ]
  },
  {
   "cell_type": "code",
   "execution_count": 7,
   "metadata": {},
   "outputs": [
    {
     "name": "stdout",
     "output_type": "stream",
     "text": [
      "Metabolite octanoyl_coa_c not found in model\n",
      "Metabolite decanoyl_coa_c not found in model\n",
      "Metabolite dodecanoyl_coa_c not found in model\n",
      "\n",
      "Total demand reactions added: 0\n"
     ]
    }
   ],
   "source": [
    "# Create a copy of the model for modifications\n",
    "model_modified = model.copy()\n",
    "\n",
    "# Add demand reactions for C8-C12 fatty acids if they don't exist\n",
    "target_fatty_acids = []\n",
    "\n",
    "# Create synthetic demand reactions for C8, C10, C12 fatty acids\n",
    "fatty_acid_targets = {\n",
    "    'C8': 'octanoyl_coa_c',\n",
    "    'C10': 'decanoyl_coa_c', \n",
    "    'C12': 'dodecanoyl_coa_c'\n",
    "}\n",
    "\n",
    "for name, met_id in fatty_acid_targets.items():\n",
    "    try:\n",
    "        met = model_modified.metabolites.get_by_id(met_id)\n",
    "        # Create demand reaction\n",
    "        demand_rxn = Reaction(f\"DM_{name}\")\n",
    "        demand_rxn.name = f\"{name} fatty acid demand\"\n",
    "        demand_rxn.lower_bound = 0\n",
    "        demand_rxn.upper_bound = 1000\n",
    "        demand_rxn.add_metabolites({met: -1})\n",
    "        model_modified.add_reactions([demand_rxn])\n",
    "        target_fatty_acids.append(demand_rxn)\n",
    "        print(f\"Added demand reaction for {name}: {demand_rxn.id}\")\n",
    "    except KeyError:\n",
    "        print(f\"Metabolite {met_id} not found in model\")\n",
    "\n",
    "print(f\"\\nTotal demand reactions added: {len(target_fatty_acids)}\")"
   ]
  },
  {
   "cell_type": "markdown",
   "metadata": {},
   "source": [
    "## 5. Flux Balance Analysis - Base Case\n",
    "\n",
    "Perform FBA to determine the maximum production rates under normal conditions."
   ]
  },
  {
   "cell_type": "code",
   "execution_count": 8,
   "metadata": {},
   "outputs": [
    {
     "name": "stdout",
     "output_type": "stream",
     "text": [
      "\n",
      "Base case optimization results:\n",
      "Empty DataFrame\n",
      "Columns: []\n",
      "Index: []\n"
     ]
    }
   ],
   "source": [
    "# Set glucose as carbon source\n",
    "model_modified.medium = {'EX_glc__D_e': 10.0, 'EX_o2_e': 20.0}\n",
    "\n",
    "# Optimize for each fatty acid target\n",
    "results = {}\n",
    "\n",
    "for demand_rxn in target_fatty_acids:\n",
    "    model_modified.objective = demand_rxn.id\n",
    "    solution = model_modified.optimize()\n",
    "    \n",
    "    if solution.status == 'optimal':\n",
    "        results[demand_rxn.id] = {\n",
    "            'production_rate': solution.objective_value,\n",
    "            'growth_rate': solution.fluxes.get('BIOMASS_Ec_iML1515_core_75p37M', 0),\n",
    "            'glucose_uptake': solution.fluxes.get('EX_glc__D_e', 0)\n",
    "        }\n",
    "        print(f\"{demand_rxn.name}: {solution.objective_value:.4f} mmol/gDW/h\")\n",
    "    else:\n",
    "        print(f\"{demand_rxn.name}: Optimization failed - {solution.status}\")\n",
    "\n",
    "# Display results\n",
    "results_df = pd.DataFrame(results).T\n",
    "print(\"\\nBase case optimization results:\")\n",
    "print(results_df)"
   ]
  },
  {
   "cell_type": "markdown",
   "metadata": {},
   "source": [
    "## 6. Pathway Engineering Strategies\n",
    "\n",
    "Let's explore different engineering strategies to improve fatty acid production."
   ]
  },
  {
   "cell_type": "code",
   "execution_count": 9,
   "metadata": {},
   "outputs": [
    {
     "name": "stdout",
     "output_type": "stream",
     "text": [
      "Knocked out: ACALD\n",
      "Reaction ETOHt2r not found\n",
      "Knocked out: ALCD2x\n",
      "Knocked out: PTAr\n",
      "Knocked out: ACKr\n",
      "\n",
      "Strategy 1 (Knockouts) improvement:\n"
     ]
    }
   ],
   "source": [
    "# Strategy 1: Knock out competing pathways\n",
    "model_strategy1 = model_modified.copy()\n",
    "\n",
    "# Common knockouts for fatty acid production\n",
    "knockouts = [\n",
    "    'ACALD',    # Acetaldehyde dehydrogenase\n",
    "    'ETOHt2r',  # Ethanol transport\n",
    "    'ALCD2x',   # Alcohol dehydrogenase\n",
    "    'PTAr',     # Phosphotransacetylase\n",
    "    'ACKr'      # Acetate kinase\n",
    "]\n",
    "\n",
    "for ko in knockouts:\n",
    "    try:\n",
    "        model_strategy1.reactions.get_by_id(ko).knock_out()\n",
    "        print(f\"Knocked out: {ko}\")\n",
    "    except KeyError:\n",
    "        print(f\"Reaction {ko} not found\")\n",
    "\n",
    "# Re-optimize with knockouts\n",
    "strategy1_results = {}\n",
    "for demand_rxn in target_fatty_acids:\n",
    "    model_strategy1.objective = demand_rxn.id\n",
    "    solution = model_strategy1.optimize()\n",
    "    \n",
    "    if solution.status == 'optimal':\n",
    "        strategy1_results[demand_rxn.id] = solution.objective_value\n",
    "        print(f\"{demand_rxn.name} (with KOs): {solution.objective_value:.4f} mmol/gDW/h\")\n",
    "\n",
    "print(\"\\nStrategy 1 (Knockouts) improvement:\")\n",
    "for rxn_id in strategy1_results:\n",
    "    base = results[rxn_id]['production_rate']\n",
    "    improved = strategy1_results[rxn_id]\n",
    "    improvement = (improved - base) / base * 100 if base > 0 else 0\n",
    "    print(f\"{rxn_id}: {improvement:.1f}% improvement\")"
   ]
  },
  {
   "cell_type": "markdown",
   "metadata": {},
   "source": [
    "## 7. Cofactor Requirements Analysis\n",
    "\n",
    "Analyze the cofactor requirements for fatty acid synthesis."
   ]
  },
  {
   "cell_type": "code",
   "execution_count": 10,
   "metadata": {},
   "outputs": [
    {
     "ename": "ValueError",
     "evalue": "max() iterable argument is empty",
     "output_type": "error",
     "traceback": [
      "\u001b[31m---------------------------------------------------------------------------\u001b[39m",
      "\u001b[31mValueError\u001b[39m                                Traceback (most recent call last)",
      "\u001b[36mCell\u001b[39m\u001b[36m \u001b[39m\u001b[32mIn[10]\u001b[39m\u001b[32m, line 2\u001b[39m\n\u001b[32m      1\u001b[39m \u001b[38;5;66;03m# Analyze cofactor fluxes for the best performing target\u001b[39;00m\n\u001b[32m----> \u001b[39m\u001b[32m2\u001b[39m best_target = \u001b[38;5;28;43mmax\u001b[39;49m\u001b[43m(\u001b[49m\u001b[43mresults\u001b[49m\u001b[43m.\u001b[49m\u001b[43mkeys\u001b[49m\u001b[43m(\u001b[49m\u001b[43m)\u001b[49m\u001b[43m,\u001b[49m\u001b[43m \u001b[49m\u001b[43mkey\u001b[49m\u001b[43m=\u001b[49m\u001b[38;5;28;43;01mlambda\u001b[39;49;00m\u001b[43m \u001b[49m\u001b[43mx\u001b[49m\u001b[43m:\u001b[49m\u001b[43m \u001b[49m\u001b[43mresults\u001b[49m\u001b[43m[\u001b[49m\u001b[43mx\u001b[49m\u001b[43m]\u001b[49m\u001b[43m[\u001b[49m\u001b[33;43m'\u001b[39;49m\u001b[33;43mproduction_rate\u001b[39;49m\u001b[33;43m'\u001b[39;49m\u001b[43m]\u001b[49m\u001b[43m)\u001b[49m\n\u001b[32m      3\u001b[39m model_modified.objective = best_target\n\u001b[32m      4\u001b[39m solution = model_modified.optimize()\n",
      "\u001b[31mValueError\u001b[39m: max() iterable argument is empty"
     ]
    }
   ],
   "source": [
    "# Analyze cofactor fluxes for the best performing target\n",
    "best_target = max(results.keys(), key=lambda x: results[x]['production_rate'])\n",
    "model_modified.objective = best_target\n",
    "solution = model_modified.optimize()\n",
    "\n",
    "# Key cofactors for fatty acid synthesis\n",
    "cofactors = {\n",
    "    'NADH': ['nadh_c', 'nad_c'],\n",
    "    'NADPH': ['nadph_c', 'nadp_c'],\n",
    "    'ATP': ['atp_c', 'adp_c'],\n",
    "    'CoA': ['coa_c', 'accoa_c']\n",
    "}\n",
    "\n",
    "print(f\"Cofactor analysis for optimal {best_target} production:\")\n",
    "print(f\"Production rate: {solution.objective_value:.4f} mmol/gDW/h\\n\")\n",
    "\n",
    "# Find reactions involving these cofactors\n",
    "cofactor_fluxes = {}\n",
    "for cofactor_name, mets in cofactors.items():\n",
    "    total_consumption = 0\n",
    "    total_production = 0\n",
    "    \n",
    "    for met_id in mets:\n",
    "        try:\n",
    "            met = model_modified.metabolites.get_by_id(met_id)\n",
    "            for rxn in met.reactions:\n",
    "                flux = solution.fluxes.get(rxn.id, 0)\n",
    "                if flux != 0:\n",
    "                    stoich = rxn.metabolites[met]\n",
    "                    net_flux = flux * stoich\n",
    "                    if net_flux < 0:\n",
    "                        total_consumption += abs(net_flux)\n",
    "                    else:\n",
    "                        total_production += net_flux\n",
    "        except KeyError:\n",
    "            continue\n",
    "    \n",
    "    cofactor_fluxes[cofactor_name] = {\n",
    "        'consumption': total_consumption,\n",
    "        'production': total_production,\n",
    "        'net': total_production - total_consumption\n",
    "    }\n",
    "\n",
    "cofactor_df = pd.DataFrame(cofactor_fluxes).T\n",
    "print(\"Cofactor flux analysis (mmol/gDW/h):\")\n",
    "print(cofactor_df)"
   ]
  },
  {
   "cell_type": "markdown",
   "metadata": {},
   "source": [
    "## 8. Visualization of Results\n",
    "\n",
    "Create visualizations to better understand the results."
   ]
  },
  {
   "cell_type": "code",
   "execution_count": 11,
   "metadata": {},
   "outputs": [
    {
     "ename": "ValueError",
     "evalue": "shape mismatch: objects cannot be broadcast to a single shape.  Mismatch is between arg 0 with shape (3,) and arg 1 with shape (0,).",
     "output_type": "error",
     "traceback": [
      "\u001b[31m---------------------------------------------------------------------------\u001b[39m",
      "\u001b[31mValueError\u001b[39m                                Traceback (most recent call last)",
      "\u001b[36mCell\u001b[39m\u001b[36m \u001b[39m\u001b[32mIn[11]\u001b[39m\u001b[32m, line 12\u001b[39m\n\u001b[32m      9\u001b[39m x = np.arange(\u001b[38;5;28mlen\u001b[39m(fatty_acid_names))\n\u001b[32m     10\u001b[39m width = \u001b[32m0.35\u001b[39m\n\u001b[32m---> \u001b[39m\u001b[32m12\u001b[39m \u001b[43max1\u001b[49m\u001b[43m.\u001b[49m\u001b[43mbar\u001b[49m\u001b[43m(\u001b[49m\u001b[43mx\u001b[49m\u001b[43m \u001b[49m\u001b[43m-\u001b[49m\u001b[43m \u001b[49m\u001b[43mwidth\u001b[49m\u001b[43m/\u001b[49m\u001b[32;43m2\u001b[39;49m\u001b[43m,\u001b[49m\u001b[43m \u001b[49m\u001b[43mbase_rates\u001b[49m\u001b[43m,\u001b[49m\u001b[43m \u001b[49m\u001b[43mwidth\u001b[49m\u001b[43m,\u001b[49m\u001b[43m \u001b[49m\u001b[43mlabel\u001b[49m\u001b[43m=\u001b[49m\u001b[33;43m'\u001b[39;49m\u001b[33;43mBase case\u001b[39;49m\u001b[33;43m'\u001b[39;49m\u001b[43m,\u001b[49m\u001b[43m \u001b[49m\u001b[43malpha\u001b[49m\u001b[43m=\u001b[49m\u001b[32;43m0.8\u001b[39;49m\u001b[43m)\u001b[49m\n\u001b[32m     13\u001b[39m ax1.bar(x + width/\u001b[32m2\u001b[39m, strategy1_rates, width, label=\u001b[33m'\u001b[39m\u001b[33mWith knockouts\u001b[39m\u001b[33m'\u001b[39m, alpha=\u001b[32m0.8\u001b[39m)\n\u001b[32m     14\u001b[39m ax1.set_xlabel(\u001b[33m'\u001b[39m\u001b[33mFatty Acid Chain Length\u001b[39m\u001b[33m'\u001b[39m)\n",
      "\u001b[36mFile \u001b[39m\u001b[32m~/Documents/Python-Things/ecoli-code/.venv/lib/python3.12/site-packages/matplotlib/__init__.py:1521\u001b[39m, in \u001b[36m_preprocess_data.<locals>.inner\u001b[39m\u001b[34m(ax, data, *args, **kwargs)\u001b[39m\n\u001b[32m   1518\u001b[39m \u001b[38;5;129m@functools\u001b[39m.wraps(func)\n\u001b[32m   1519\u001b[39m \u001b[38;5;28;01mdef\u001b[39;00m\u001b[38;5;250m \u001b[39m\u001b[34minner\u001b[39m(ax, *args, data=\u001b[38;5;28;01mNone\u001b[39;00m, **kwargs):\n\u001b[32m   1520\u001b[39m     \u001b[38;5;28;01mif\u001b[39;00m data \u001b[38;5;129;01mis\u001b[39;00m \u001b[38;5;28;01mNone\u001b[39;00m:\n\u001b[32m-> \u001b[39m\u001b[32m1521\u001b[39m         \u001b[38;5;28;01mreturn\u001b[39;00m \u001b[43mfunc\u001b[49m\u001b[43m(\u001b[49m\n\u001b[32m   1522\u001b[39m \u001b[43m            \u001b[49m\u001b[43max\u001b[49m\u001b[43m,\u001b[49m\n\u001b[32m   1523\u001b[39m \u001b[43m            \u001b[49m\u001b[43m*\u001b[49m\u001b[38;5;28;43mmap\u001b[39;49m\u001b[43m(\u001b[49m\u001b[43mcbook\u001b[49m\u001b[43m.\u001b[49m\u001b[43msanitize_sequence\u001b[49m\u001b[43m,\u001b[49m\u001b[43m \u001b[49m\u001b[43margs\u001b[49m\u001b[43m)\u001b[49m\u001b[43m,\u001b[49m\n\u001b[32m   1524\u001b[39m \u001b[43m            \u001b[49m\u001b[43m*\u001b[49m\u001b[43m*\u001b[49m\u001b[43m{\u001b[49m\u001b[43mk\u001b[49m\u001b[43m:\u001b[49m\u001b[43m \u001b[49m\u001b[43mcbook\u001b[49m\u001b[43m.\u001b[49m\u001b[43msanitize_sequence\u001b[49m\u001b[43m(\u001b[49m\u001b[43mv\u001b[49m\u001b[43m)\u001b[49m\u001b[43m \u001b[49m\u001b[38;5;28;43;01mfor\u001b[39;49;00m\u001b[43m \u001b[49m\u001b[43mk\u001b[49m\u001b[43m,\u001b[49m\u001b[43m \u001b[49m\u001b[43mv\u001b[49m\u001b[43m \u001b[49m\u001b[38;5;129;43;01min\u001b[39;49;00m\u001b[43m \u001b[49m\u001b[43mkwargs\u001b[49m\u001b[43m.\u001b[49m\u001b[43mitems\u001b[49m\u001b[43m(\u001b[49m\u001b[43m)\u001b[49m\u001b[43m}\u001b[49m\u001b[43m)\u001b[49m\n\u001b[32m   1526\u001b[39m     bound = new_sig.bind(ax, *args, **kwargs)\n\u001b[32m   1527\u001b[39m     auto_label = (bound.arguments.get(label_namer)\n\u001b[32m   1528\u001b[39m                   \u001b[38;5;129;01mor\u001b[39;00m bound.kwargs.get(label_namer))\n",
      "\u001b[36mFile \u001b[39m\u001b[32m~/Documents/Python-Things/ecoli-code/.venv/lib/python3.12/site-packages/matplotlib/axes/_axes.py:2583\u001b[39m, in \u001b[36mAxes.bar\u001b[39m\u001b[34m(self, x, height, width, bottom, align, **kwargs)\u001b[39m\n\u001b[32m   2580\u001b[39m     \u001b[38;5;28;01mif\u001b[39;00m yerr \u001b[38;5;129;01mis\u001b[39;00m \u001b[38;5;129;01mnot\u001b[39;00m \u001b[38;5;28;01mNone\u001b[39;00m:\n\u001b[32m   2581\u001b[39m         yerr = \u001b[38;5;28mself\u001b[39m._convert_dx(yerr, y0, y, \u001b[38;5;28mself\u001b[39m.convert_yunits)\n\u001b[32m-> \u001b[39m\u001b[32m2583\u001b[39m x, height, width, y, linewidth, hatch = \u001b[43mnp\u001b[49m\u001b[43m.\u001b[49m\u001b[43mbroadcast_arrays\u001b[49m\u001b[43m(\u001b[49m\n\u001b[32m   2584\u001b[39m \u001b[43m    \u001b[49m\u001b[38;5;66;43;03m# Make args iterable too.\u001b[39;49;00m\n\u001b[32m   2585\u001b[39m \u001b[43m    \u001b[49m\u001b[43mnp\u001b[49m\u001b[43m.\u001b[49m\u001b[43matleast_1d\u001b[49m\u001b[43m(\u001b[49m\u001b[43mx\u001b[49m\u001b[43m)\u001b[49m\u001b[43m,\u001b[49m\u001b[43m \u001b[49m\u001b[43mheight\u001b[49m\u001b[43m,\u001b[49m\u001b[43m \u001b[49m\u001b[43mwidth\u001b[49m\u001b[43m,\u001b[49m\u001b[43m \u001b[49m\u001b[43my\u001b[49m\u001b[43m,\u001b[49m\u001b[43m \u001b[49m\u001b[43mlinewidth\u001b[49m\u001b[43m,\u001b[49m\u001b[43m \u001b[49m\u001b[43mhatch\u001b[49m\u001b[43m)\u001b[49m\n\u001b[32m   2587\u001b[39m \u001b[38;5;66;03m# Now that units have been converted, set the tick locations.\u001b[39;00m\n\u001b[32m   2588\u001b[39m \u001b[38;5;28;01mif\u001b[39;00m orientation == \u001b[33m'\u001b[39m\u001b[33mvertical\u001b[39m\u001b[33m'\u001b[39m:\n",
      "\u001b[36mFile \u001b[39m\u001b[32m~/Documents/Python-Things/ecoli-code/.venv/lib/python3.12/site-packages/numpy/lib/_stride_tricks_impl.py:544\u001b[39m, in \u001b[36mbroadcast_arrays\u001b[39m\u001b[34m(subok, *args)\u001b[39m\n\u001b[32m    537\u001b[39m \u001b[38;5;66;03m# nditer is not used here to avoid the limit of 32 arrays.\u001b[39;00m\n\u001b[32m    538\u001b[39m \u001b[38;5;66;03m# Otherwise, something like the following one-liner would suffice:\u001b[39;00m\n\u001b[32m    539\u001b[39m \u001b[38;5;66;03m# return np.nditer(args, flags=['multi_index', 'zerosize_ok'],\u001b[39;00m\n\u001b[32m    540\u001b[39m \u001b[38;5;66;03m#                  order='C').itviews\u001b[39;00m\n\u001b[32m    542\u001b[39m args = [np.array(_m, copy=\u001b[38;5;28;01mNone\u001b[39;00m, subok=subok) \u001b[38;5;28;01mfor\u001b[39;00m _m \u001b[38;5;129;01min\u001b[39;00m args]\n\u001b[32m--> \u001b[39m\u001b[32m544\u001b[39m shape = \u001b[43m_broadcast_shape\u001b[49m\u001b[43m(\u001b[49m\u001b[43m*\u001b[49m\u001b[43margs\u001b[49m\u001b[43m)\u001b[49m\n\u001b[32m    546\u001b[39m result = [array \u001b[38;5;28;01mif\u001b[39;00m array.shape == shape\n\u001b[32m    547\u001b[39m           \u001b[38;5;28;01melse\u001b[39;00m _broadcast_to(array, shape, subok=subok, readonly=\u001b[38;5;28;01mFalse\u001b[39;00m)\n\u001b[32m    548\u001b[39m                           \u001b[38;5;28;01mfor\u001b[39;00m array \u001b[38;5;129;01min\u001b[39;00m args]\n\u001b[32m    549\u001b[39m \u001b[38;5;28;01mreturn\u001b[39;00m \u001b[38;5;28mtuple\u001b[39m(result)\n",
      "\u001b[36mFile \u001b[39m\u001b[32m~/Documents/Python-Things/ecoli-code/.venv/lib/python3.12/site-packages/numpy/lib/_stride_tricks_impl.py:419\u001b[39m, in \u001b[36m_broadcast_shape\u001b[39m\u001b[34m(*args)\u001b[39m\n\u001b[32m    414\u001b[39m \u001b[38;5;250m\u001b[39m\u001b[33;03m\"\"\"Returns the shape of the arrays that would result from broadcasting the\u001b[39;00m\n\u001b[32m    415\u001b[39m \u001b[33;03msupplied arrays against each other.\u001b[39;00m\n\u001b[32m    416\u001b[39m \u001b[33;03m\"\"\"\u001b[39;00m\n\u001b[32m    417\u001b[39m \u001b[38;5;66;03m# use the old-iterator because np.nditer does not handle size 0 arrays\u001b[39;00m\n\u001b[32m    418\u001b[39m \u001b[38;5;66;03m# consistently\u001b[39;00m\n\u001b[32m--> \u001b[39m\u001b[32m419\u001b[39m b = \u001b[43mnp\u001b[49m\u001b[43m.\u001b[49m\u001b[43mbroadcast\u001b[49m\u001b[43m(\u001b[49m\u001b[43m*\u001b[49m\u001b[43margs\u001b[49m\u001b[43m[\u001b[49m\u001b[43m:\u001b[49m\u001b[32;43m32\u001b[39;49m\u001b[43m]\u001b[49m\u001b[43m)\u001b[49m\n\u001b[32m    420\u001b[39m \u001b[38;5;66;03m# unfortunately, it cannot handle 32 or more arguments directly\u001b[39;00m\n\u001b[32m    421\u001b[39m \u001b[38;5;28;01mfor\u001b[39;00m pos \u001b[38;5;129;01min\u001b[39;00m \u001b[38;5;28mrange\u001b[39m(\u001b[32m32\u001b[39m, \u001b[38;5;28mlen\u001b[39m(args), \u001b[32m31\u001b[39m):\n\u001b[32m    422\u001b[39m     \u001b[38;5;66;03m# ironically, np.broadcast does not properly handle np.broadcast\u001b[39;00m\n\u001b[32m    423\u001b[39m     \u001b[38;5;66;03m# objects (it treats them as scalars)\u001b[39;00m\n\u001b[32m    424\u001b[39m     \u001b[38;5;66;03m# use broadcasting to avoid allocating the full array\u001b[39;00m\n",
      "\u001b[31mValueError\u001b[39m: shape mismatch: objects cannot be broadcast to a single shape.  Mismatch is between arg 0 with shape (3,) and arg 1 with shape (0,)."
     ]
    },
    {
     "data": {
      "image/png": "[encoded data removed]",
      "text/plain": [
       "<Figure size 1500x600 with 2 Axes>"
      ]
     },
     "metadata": {},
     "output_type": "display_data"
    }
   ],
   "source": [
    "# Create visualization of production rates\n",
    "fig, (ax1, ax2) = plt.subplots(1, 2, figsize=(15, 6))\n",
    "\n",
    "# Plot 1: Production rates comparison\n",
    "fatty_acid_names = ['C8', 'C10', 'C12']\n",
    "base_rates = [results[f'DM_{name}']['production_rate'] for name in fatty_acid_names if f'DM_{name}' in results]\n",
    "strategy1_rates = [strategy1_results[f'DM_{name}'] for name in fatty_acid_names if f'DM_{name}' in strategy1_results]\n",
    "\n",
    "x = np.arange(len(fatty_acid_names))\n",
    "width = 0.35\n",
    "\n",
    "ax1.bar(x - width/2, base_rates, width, label='Base case', alpha=0.8)\n",
    "ax1.bar(x + width/2, strategy1_rates, width, label='With knockouts', alpha=0.8)\n",
    "ax1.set_xlabel('Fatty Acid Chain Length')\n",
    "ax1.set_ylabel('Production Rate (mmol/gDW/h)')\n",
    "ax1.set_title('Fatty Acid Production Rates')\n",
    "ax1.set_xticks(x)\n",
    "ax1.set_xticklabels(fatty_acid_names)\n",
    "ax1.legend()\n",
    "ax1.grid(True, alpha=0.3)\n",
    "\n",
    "# Plot 2: Cofactor requirements\n",
    "cofactor_names = list(cofactor_fluxes.keys())\n",
    "consumption_rates = [cofactor_fluxes[name]['consumption'] for name in cofactor_names]\n",
    "production_rates = [cofactor_fluxes[name]['production'] for name in cofactor_names]\n",
    "\n",
    "x2 = np.arange(len(cofactor_names))\n",
    "ax2.bar(x2 - width/2, consumption_rates, width, label='Consumption', alpha=0.8)\n",
    "ax2.bar(x2 + width/2, production_rates, width, label='Production', alpha=0.8)\n",
    "ax2.set_xlabel('Cofactor')\n",
    "ax2.set_ylabel('Flux (mmol/gDW/h)')\n",
    "ax2.set_title('Cofactor Requirements')\n",
    "ax2.set_xticks(x2)\n",
    "ax2.set_xticklabels(cofactor_names)\n",
    "ax2.legend()\n",
    "ax2.grid(True, alpha=0.3)\n",
    "\n",
    "plt.tight_layout()\n",
    "plt.show()"
   ]
  },
  {
   "cell_type": "markdown",
   "metadata": {},
   "source": [
    "## 9. Rate Analysis and Bottleneck Identification\n",
    "\n",
    "Identify potential rate-limiting steps and bottlenecks."
   ]
  },
  {
   "cell_type": "code",
   "execution_count": 12,
   "metadata": {},
   "outputs": [
    {
     "ename": "NameError",
     "evalue": "name 'best_target' is not defined",
     "output_type": "error",
     "traceback": [
      "\u001b[31m---------------------------------------------------------------------------\u001b[39m",
      "\u001b[31mNameError\u001b[39m                                 Traceback (most recent call last)",
      "\u001b[36mCell\u001b[39m\u001b[36m \u001b[39m\u001b[32mIn[12]\u001b[39m\u001b[32m, line 2\u001b[39m\n\u001b[32m      1\u001b[39m \u001b[38;5;66;03m# Perform flux variability analysis\u001b[39;00m\n\u001b[32m----> \u001b[39m\u001b[32m2\u001b[39m model_modified.objective = \u001b[43mbest_target\u001b[49m\n\u001b[32m      3\u001b[39m fva_result = flux_variability_analysis(model_modified, fraction_of_optimum=\u001b[32m0.9\u001b[39m)\n\u001b[32m      5\u001b[39m \u001b[38;5;66;03m# Find reactions with narrow flux ranges (potential bottlenecks)\u001b[39;00m\n",
      "\u001b[31mNameError\u001b[39m: name 'best_target' is not defined"
     ]
    }
   ],
   "source": [
    "# Perform flux variability analysis\n",
    "model_modified.objective = best_target\n",
    "fva_result = flux_variability_analysis(model_modified, fraction_of_optimum=0.9)\n",
    "\n",
    "# Find reactions with narrow flux ranges (potential bottlenecks)\n",
    "fva_result['flux_range'] = fva_result['maximum'] - fva_result['minimum']\n",
    "fva_result['flux_mean'] = (fva_result['maximum'] + fva_result['minimum']) / 2\n",
    "\n",
    "# Filter for reactions with significant flux and narrow ranges\n",
    "bottlenecks = fva_result[\n",
    "    (abs(fva_result['flux_mean']) > 0.1) & \n",
    "    (fva_result['flux_range'] < 0.1)\n",
    "].sort_values('flux_range')\n",
    "\n",
    "print(\"Potential bottleneck reactions (narrow flux ranges):\")\n",
    "print(bottlenecks.head(10))\n",
    "\n",
    "# Calculate theoretical maximum rates based on current constraints\n",
    "current_rate = results[best_target]['production_rate']\n",
    "target_rate = 30  # g/L/h target from project requirements\n",
    "\n",
    "# Estimate molecular weight (approximate for C8-C12 fatty acids)\n",
    "mw_estimate = 200  # g/mol (rough estimate)\n",
    "current_rate_g_per_L_h = current_rate * mw_estimate / 1000  # Convert mmol/gDW/h to g/L/h (rough)\n",
    "\n",
    "print(f\"\\nRate Analysis:\")\n",
    "print(f\"Current rate: {current_rate:.4f} mmol/gDW/h\")\n",
    "print(f\"Estimated current rate: {current_rate_g_per_L_h:.4f} g/L/h\")\n",
    "print(f\"Target rate: {target_rate} g/L/h\")\n",
    "print(f\"Rate gap: {target_rate / current_rate_g_per_L_h:.0f}x improvement needed\")"
   ]
  },
  {
   "cell_type": "markdown",
   "metadata": {},
   "source": [
    "## 10. Summary and Recommendations\n",
    "\n",
    "Summarize findings and provide recommendations for pathway optimization."
   ]
  },
  {
   "cell_type": "code",
   "execution_count": 13,
   "metadata": {},
   "outputs": [
    {
     "ename": "NameError",
     "evalue": "name 'target_rate' is not defined",
     "output_type": "error",
     "traceback": [
      "\u001b[31m---------------------------------------------------------------------------\u001b[39m",
      "\u001b[31mNameError\u001b[39m                                 Traceback (most recent call last)",
      "\u001b[36mCell\u001b[39m\u001b[36m \u001b[39m\u001b[32mIn[13]\u001b[39m\u001b[32m, line 8\u001b[39m\n\u001b[32m      1\u001b[39m \u001b[38;5;66;03m# Create summary dataframe\u001b[39;00m\n\u001b[32m      2\u001b[39m summary_data = {\n\u001b[32m      3\u001b[39m     \u001b[33m'\u001b[39m\u001b[33mMetric\u001b[39m\u001b[33m'\u001b[39m: [\u001b[33m'\u001b[39m\u001b[33mBase Production Rate\u001b[39m\u001b[33m'\u001b[39m, \u001b[33m'\u001b[39m\u001b[33mWith Knockouts\u001b[39m\u001b[33m'\u001b[39m, \u001b[33m'\u001b[39m\u001b[33mImprovement\u001b[39m\u001b[33m'\u001b[39m, \u001b[33m'\u001b[39m\u001b[33mRate Gap to Target\u001b[39m\u001b[33m'\u001b[39m],\n\u001b[32m      4\u001b[39m     \u001b[33m'\u001b[39m\u001b[33mC8 (mmol/gDW/h)\u001b[39m\u001b[33m'\u001b[39m: [\n\u001b[32m      5\u001b[39m         results.get(\u001b[33m'\u001b[39m\u001b[33mDM_C8\u001b[39m\u001b[33m'\u001b[39m, {}).get(\u001b[33m'\u001b[39m\u001b[33mproduction_rate\u001b[39m\u001b[33m'\u001b[39m, \u001b[32m0\u001b[39m),\n\u001b[32m      6\u001b[39m         strategy1_results.get(\u001b[33m'\u001b[39m\u001b[33mDM_C8\u001b[39m\u001b[33m'\u001b[39m, \u001b[32m0\u001b[39m),\n\u001b[32m      7\u001b[39m         \u001b[33mf\u001b[39m\u001b[33m\"\u001b[39m\u001b[38;5;132;01m{\u001b[39;00m((strategy1_results.get(\u001b[33m'\u001b[39m\u001b[33mDM_C8\u001b[39m\u001b[33m'\u001b[39m,\u001b[38;5;250m \u001b[39m\u001b[32m0\u001b[39m)\u001b[38;5;250m \u001b[39m-\u001b[38;5;250m \u001b[39mresults.get(\u001b[33m'\u001b[39m\u001b[33mDM_C8\u001b[39m\u001b[33m'\u001b[39m,\u001b[38;5;250m \u001b[39m{}).get(\u001b[33m'\u001b[39m\u001b[33mproduction_rate\u001b[39m\u001b[33m'\u001b[39m,\u001b[38;5;250m \u001b[39m\u001b[32m0\u001b[39m))\u001b[38;5;250m \u001b[39m/\u001b[38;5;250m \u001b[39mresults.get(\u001b[33m'\u001b[39m\u001b[33mDM_C8\u001b[39m\u001b[33m'\u001b[39m,\u001b[38;5;250m \u001b[39m{}).get(\u001b[33m'\u001b[39m\u001b[33mproduction_rate\u001b[39m\u001b[33m'\u001b[39m,\u001b[38;5;250m \u001b[39m\u001b[32m1\u001b[39m)\u001b[38;5;250m \u001b[39m*\u001b[38;5;250m \u001b[39m\u001b[32m100\u001b[39m)\u001b[38;5;132;01m:\u001b[39;00m\u001b[33m.1f\u001b[39m\u001b[38;5;132;01m}\u001b[39;00m\u001b[33m%\u001b[39m\u001b[33m\"\u001b[39m,\n\u001b[32m----> \u001b[39m\u001b[32m8\u001b[39m         \u001b[33mf\u001b[39m\u001b[33m\"\u001b[39m\u001b[38;5;132;01m{\u001b[39;00m\u001b[43mtarget_rate\u001b[49m\u001b[38;5;250m \u001b[39m/\u001b[38;5;250m \u001b[39m(current_rate_g_per_L_h\u001b[38;5;250m \u001b[39m\u001b[38;5;129;01mor\u001b[39;00m\u001b[38;5;250m \u001b[39m\u001b[32m1\u001b[39m)\u001b[38;5;132;01m:\u001b[39;00m\u001b[33m.0f\u001b[39m\u001b[38;5;132;01m}\u001b[39;00m\u001b[33mx\u001b[39m\u001b[33m\"\u001b[39m\n\u001b[32m      9\u001b[39m     ]\n\u001b[32m     10\u001b[39m }\n\u001b[32m     12\u001b[39m summary_df = pd.DataFrame(summary_data)\n\u001b[32m     13\u001b[39m \u001b[38;5;28mprint\u001b[39m(\u001b[33m\"\u001b[39m\u001b[33mSUMMARY OF RESULTS:\u001b[39m\u001b[33m\"\u001b[39m)\n",
      "\u001b[31mNameError\u001b[39m: name 'target_rate' is not defined"
     ]
    }
   ],
   "source": [
    "# Create summary dataframe\n",
    "summary_data = {\n",
    "    'Metric': ['Base Production Rate', 'With Knockouts', 'Improvement', 'Rate Gap to Target'],\n",
    "    'C8 (mmol/gDW/h)': [\n",
    "        results.get('DM_C8', {}).get('production_rate', 0),\n",
    "        strategy1_results.get('DM_C8', 0),\n",
    "        f\"{((strategy1_results.get('DM_C8', 0) - results.get('DM_C8', {}).get('production_rate', 0)) / results.get('DM_C8', {}).get('production_rate', 1) * 100):.1f}%\",\n",
    "        f\"{target_rate / (current_rate_g_per_L_h or 1):.0f}x\"\n",
    "    ]\n",
    "}\n",
    "\n",
    "summary_df = pd.DataFrame(summary_data)\n",
    "print(\"SUMMARY OF RESULTS:\")\n",
    "print(\"=\" * 50)\n",
    "print(summary_df.to_string(index=False))\n",
    "\n",
    "print(\"\\nKEY FINDINGS:\")\n",
    "print(\"=\" * 50)\n",
    "print(\"1. Native E. coli fatty acid synthesis is limited\")\n",
    "print(\"2. Knockout strategies show modest improvements\")\n",
    "print(\"3. Significant rate gaps exist vs. 30 g/L/h target\")\n",
    "print(\"4. Cofactor availability may be limiting\")\n",
    "\n",
    "print(\"\\nRECOMMENDATIONS:\")\n",
    "print(\"=\" * 50)\n",
    "print(\"1. Implement reverse β-oxidation pathway\")\n",
    "print(\"2. Use cell-free systems to avoid maintenance costs\")\n",
    "print(\"3. Optimize cofactor regeneration systems\")\n",
    "print(\"4. Consider enzyme engineering for rate enhancement\")\n",
    "print(\"5. Test crude lysate systems for higher concentrations\")"
   ]
  },
  {
   "cell_type": "code",
   "execution_count": null,
   "metadata": {},
   "outputs": [],
   "source": []
  },
  {
   "cell_type": "code",
   "execution_count": null,
   "metadata": {},
   "outputs": [],
   "source": []
  },
  {
   "cell_type": "code",
   "execution_count": null,
   "metadata": {},
   "outputs": [],
   "source": []
  }
 ],
 "metadata": {
  "kernelspec": {
   "display_name": "Python 3 (ipykernel)",
   "language": "python",
   "name": "python3"
  },
  "language_info": {
   "codemirror_mode": {
    "name": "ipython",
    "version": 3
   },
   "file_extension": ".py",
   "mimetype": "text/x-python",
   "name": "python",
   "nbconvert_exporter": "python",
   "pygments_lexer": "ipython3",
   "version": "3.12.4"
  }
 },
 "nbformat": 4,
 "nbformat_minor": 4
}
