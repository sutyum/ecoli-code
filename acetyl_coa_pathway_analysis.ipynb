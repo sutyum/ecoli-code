{
 "cells": [
  {
   "cell_type": "markdown",
   "metadata": {},
   "source": [
    "# E. coli Metabolic Pathway Analysis: Acetyl-CoA to C8-C12 Fatty Acids\n",
    "\n",
    "This notebook explores optimized metabolic pathways for converting Acetyl-CoA to C8-C12 fatty acids in E. coli using flux balance analysis (FBA).\n",
    "\n",
    "## Project Context\n",
    "- Target: C8-C12 fatty acids for sustainable aviation fuel (SAF)\n",
    "- Challenge: Achieve ≥ 30 g L⁻¹ h⁻¹ space-time yield\n",
    "- Approach: Cell-free enzymatic systems with reverse β-oxidation"
   ]
  },
  {
   "cell_type": "code",
   "execution_count": null,
   "metadata": {},
   "outputs": [],
   "source": [
    "import cobra\n",
    "import numpy as np\n",
    "import pandas as pd\n",
    "import matplotlib.pyplot as plt\n",
    "import seaborn as sns\n",
    "from cobra.flux_analysis import flux_variability_analysis\n",
    "from cobra.core import Reaction, Metabolite\n",
    "\n",
    "# Set plotting style\n",
    "plt.style.use('seaborn-v0_8')\n",
    "sns.set_palette(\"husl\")"
   ]
  },
  {
   "cell_type": "markdown",
   "metadata": {},
   "source": [
    "## 1. Load E. coli Genome-Scale Model\n",
    "\n",
    "We'll use the iML1515 model, a comprehensive genome-scale metabolic model of E. coli."
   ]
  },
  {
   "cell_type": "code",
   "execution_count": null,
   "metadata": {},
   "outputs": [],
   "source": [
    "# Load the E. coli iML1515 model\n",
    "model = cobra.io.load_model(\"iML1515\")\n",
    "\n",
    "print(f\"Model: {model.id}\")\n",
    "print(f\"Number of reactions: {len(model.reactions)}\")\n",
    "print(f\"Number of metabolites: {len(model.metabolites)}\")\n",
    "print(f\"Number of genes: {len(model.genes)}\")"
   ]
  },
  {
   "cell_type": "markdown",
   "metadata": {},
   "source": [
    "## 2. Identify Key Metabolites and Reactions\n",
    "\n",
    "First, let's identify the key metabolites and reactions involved in fatty acid synthesis."
   ]
  },
  {
   "cell_type": "code",
   "execution_count": null,
   "metadata": {},
   "outputs": [],
   "source": [
    "# Find acetyl-CoA and fatty acid related metabolites\n",
    "acetyl_coa = model.metabolites.get_by_id(\"accoa_c\")\n",
    "print(f\"Acetyl-CoA: {acetyl_coa.name}\")\n",
    "\n",
    "# Search for fatty acid metabolites\n",
    "fatty_acids = []\n",
    "for met in model.metabolites:\n",
    "    if \"fatty\" in met.name.lower() or \"acyl\" in met.name.lower():\n",
    "        if any(x in met.name.lower() for x in [\"c8\", \"c10\", \"c12\", \"octanoyl\", \"decanoyl\", \"dodecanoyl\"]):\n",
    "            fatty_acids.append(met)\n",
    "\n",
    "print(\"\\nRelevant C8-C12 fatty acid metabolites:\")\n",
    "for fa in fatty_acids:\n",
    "    print(f\"  {fa.id}: {fa.name}\")"
   ]
  },
  {
   "cell_type": "markdown",
   "metadata": {},
   "source": [
    "## 3. Analyze Fatty Acid Synthesis Pathways\n",
    "\n",
    "Let's examine the reactions involved in fatty acid synthesis and identify the key enzymes."
   ]
  },
  {
   "cell_type": "code",
   "execution_count": null,
   "metadata": {},
   "outputs": [],
   "source": [
    "# Find reactions related to fatty acid synthesis\n",
    "fas_reactions = []\n",
    "for rxn in model.reactions:\n",
    "    if any(met in rxn.metabolites for met in [acetyl_coa] + fatty_acids):\n",
    "        if \"fatty\" in rxn.name.lower() or \"acyl\" in rxn.name.lower():\n",
    "            fas_reactions.append(rxn)\n",
    "\n",
    "print(\"Key fatty acid synthesis reactions:\")\n",
    "for rxn in fas_reactions[:10]:  # Show first 10\n",
    "    print(f\"  {rxn.id}: {rxn.name}\")\n",
    "    print(f\"    Reaction: {rxn.reaction}\")\n",
    "    print()"
   ]
  },
  {
   "cell_type": "markdown",
   "metadata": {},
   "source": [
    "## 4. Set Up Optimization for C8-C12 Production\n",
    "\n",
    "We'll modify the model to optimize for C8-C12 fatty acid production."
   ]
  },
  {
   "cell_type": "code",
   "execution_count": null,
   "metadata": {},
   "outputs": [],
   "source": [
    "# Create a copy of the model for modifications\n",
    "model_modified = model.copy()\n",
    "\n",
    "# Add demand reactions for C8-C12 fatty acids if they don't exist\n",
    "target_fatty_acids = []\n",
    "\n",
    "# Create synthetic demand reactions for C8, C10, C12 fatty acids\n",
    "fatty_acid_targets = {\n",
    "    'C8': 'octanoyl_coa_c',\n",
    "    'C10': 'decanoyl_coa_c', \n",
    "    'C12': 'dodecanoyl_coa_c'\n",
    "}\n",
    "\n",
    "for name, met_id in fatty_acid_targets.items():\n",
    "    try:\n",
    "        met = model_modified.metabolites.get_by_id(met_id)\n",
    "        # Create demand reaction\n",
    "        demand_rxn = Reaction(f\"DM_{name}\")\n",
    "        demand_rxn.name = f\"{name} fatty acid demand\"\n",
    "        demand_rxn.lower_bound = 0\n",
    "        demand_rxn.upper_bound = 1000\n",
    "        demand_rxn.add_metabolites({met: -1})\n",
    "        model_modified.add_reactions([demand_rxn])\n",
    "        target_fatty_acids.append(demand_rxn)\n",
    "        print(f\"Added demand reaction for {name}: {demand_rxn.id}\")\n",
    "    except KeyError:\n",
    "        print(f\"Metabolite {met_id} not found in model\")\n",
    "\n",
    "print(f\"\\nTotal demand reactions added: {len(target_fatty_acids)}\")"
   ]
  },
  {
   "cell_type": "markdown",
   "metadata": {},
   "source": [
    "## 5. Flux Balance Analysis - Base Case\n",
    "\n",
    "Perform FBA to determine the maximum production rates under normal conditions."
   ]
  },
  {
   "cell_type": "code",
   "execution_count": null,
   "metadata": {},
   "outputs": [],
   "source": [
    "# Set glucose as carbon source\n",
    "model_modified.medium = {'EX_glc__D_e': 10.0, 'EX_o2_e': 20.0}\n",
    "\n",
    "# Optimize for each fatty acid target\n",
    "results = {}\n",
    "\n",
    "for demand_rxn in target_fatty_acids:\n",
    "    model_modified.objective = demand_rxn.id\n",
    "    solution = model_modified.optimize()\n",
    "    \n",
    "    if solution.status == 'optimal':\n",
    "        results[demand_rxn.id] = {\n",
    "            'production_rate': solution.objective_value,\n",
    "            'growth_rate': solution.fluxes.get('BIOMASS_Ec_iML1515_core_75p37M', 0),\n",
    "            'glucose_uptake': solution.fluxes.get('EX_glc__D_e', 0)\n",
    "        }\n",
    "        print(f\"{demand_rxn.name}: {solution.objective_value:.4f} mmol/gDW/h\")\n",
    "    else:\n",
    "        print(f\"{demand_rxn.name}: Optimization failed - {solution.status}\")\n",
    "\n",
    "# Display results\n",
    "results_df = pd.DataFrame(results).T\n",
    "print(\"\\nBase case optimization results:\")\n",
    "print(results_df)"
   ]
  },
  {
   "cell_type": "markdown",
   "metadata": {},
   "source": [
    "## 6. Pathway Engineering Strategies\n",
    "\n",
    "Let's explore different engineering strategies to improve fatty acid production."
   ]
  },
  {
   "cell_type": "code",
   "execution_count": null,
   "metadata": {},
   "outputs": [],
   "source": [
    "# Strategy 1: Knock out competing pathways\n",
    "model_strategy1 = model_modified.copy()\n",
    "\n",
    "# Common knockouts for fatty acid production\n",
    "knockouts = [\n",
    "    'ACALD',    # Acetaldehyde dehydrogenase\n",
    "    'ETOHt2r',  # Ethanol transport\n",
    "    'ALCD2x',   # Alcohol dehydrogenase\n",
    "    'PTAr',     # Phosphotransacetylase\n",
    "    'ACKr'      # Acetate kinase\n",
    "]\n",
    "\n",
    "for ko in knockouts:\n",
    "    try:\n",
    "        model_strategy1.reactions.get_by_id(ko).knock_out()\n",
    "        print(f\"Knocked out: {ko}\")\n",
    "    except KeyError:\n",
    "        print(f\"Reaction {ko} not found\")\n",
    "\n",
    "# Re-optimize with knockouts\n",
    "strategy1_results = {}\n",
    "for demand_rxn in target_fatty_acids:\n",
    "    model_strategy1.objective = demand_rxn.id\n",
    "    solution = model_strategy1.optimize()\n",
    "    \n",
    "    if solution.status == 'optimal':\n",
    "        strategy1_results[demand_rxn.id] = solution.objective_value\n",
    "        print(f\"{demand_rxn.name} (with KOs): {solution.objective_value:.4f} mmol/gDW/h\")\n",
    "\n",
    "print(\"\\nStrategy 1 (Knockouts) improvement:\")\n",
    "for rxn_id in strategy1_results:\n",
    "    base = results[rxn_id]['production_rate']\n",
    "    improved = strategy1_results[rxn_id]\n",
    "    improvement = (improved - base) / base * 100 if base > 0 else 0\n",
    "    print(f\"{rxn_id}: {improvement:.1f}% improvement\")"
   ]
  },
  {
   "cell_type": "markdown",
   "metadata": {},
   "source": [
    "## 7. Cofactor Requirements Analysis\n",
    "\n",
    "Analyze the cofactor requirements for fatty acid synthesis."
   ]
  },
  {
   "cell_type": "code",
   "execution_count": null,
   "metadata": {},
   "outputs": [],
   "source": [
    "# Analyze cofactor fluxes for the best performing target\n",
    "best_target = max(results.keys(), key=lambda x: results[x]['production_rate'])\n",
    "model_modified.objective = best_target\n",
    "solution = model_modified.optimize()\n",
    "\n",
    "# Key cofactors for fatty acid synthesis\n",
    "cofactors = {\n",
    "    'NADH': ['nadh_c', 'nad_c'],\n",
    "    'NADPH': ['nadph_c', 'nadp_c'],\n",
    "    'ATP': ['atp_c', 'adp_c'],\n",
    "    'CoA': ['coa_c', 'accoa_c']\n",
    "}\n",
    "\n",
    "print(f\"Cofactor analysis for optimal {best_target} production:\")\n",
    "print(f\"Production rate: {solution.objective_value:.4f} mmol/gDW/h\\n\")\n",
    "\n",
    "# Find reactions involving these cofactors\n",
    "cofactor_fluxes = {}\n",
    "for cofactor_name, mets in cofactors.items():\n",
    "    total_consumption = 0\n",
    "    total_production = 0\n",
    "    \n",
    "    for met_id in mets:\n",
    "        try:\n",
    "            met = model_modified.metabolites.get_by_id(met_id)\n",
    "            for rxn in met.reactions:\n",
    "                flux = solution.fluxes.get(rxn.id, 0)\n",
    "                if flux != 0:\n",
    "                    stoich = rxn.metabolites[met]\n",
    "                    net_flux = flux * stoich\n",
    "                    if net_flux < 0:\n",
    "                        total_consumption += abs(net_flux)\n",
    "                    else:\n",
    "                        total_production += net_flux\n",
    "        except KeyError:\n",
    "            continue\n",
    "    \n",
    "    cofactor_fluxes[cofactor_name] = {\n",
    "        'consumption': total_consumption,\n",
    "        'production': total_production,\n",
    "        'net': total_production - total_consumption\n",
    "    }\n",
    "\n",
    "cofactor_df = pd.DataFrame(cofactor_fluxes).T\n",
    "print(\"Cofactor flux analysis (mmol/gDW/h):\")\n",
    "print(cofactor_df)"
   ]
  },
  {
   "cell_type": "markdown",
   "metadata": {},
   "source": [
    "## 8. Visualization of Results\n",
    "\n",
    "Create visualizations to better understand the results."
   ]
  },
  {
   "cell_type": "code",
   "execution_count": null,
   "metadata": {},
   "outputs": [],
   "source": [
    "# Create visualization of production rates\n",
    "fig, (ax1, ax2) = plt.subplots(1, 2, figsize=(15, 6))\n",
    "\n",
    "# Plot 1: Production rates comparison\n",
    "fatty_acid_names = ['C8', 'C10', 'C12']\n",
    "base_rates = [results[f'DM_{name}']['production_rate'] for name in fatty_acid_names if f'DM_{name}' in results]\n",
    "strategy1_rates = [strategy1_results[f'DM_{name}'] for name in fatty_acid_names if f'DM_{name}' in strategy1_results]\n",
    "\n",
    "x = np.arange(len(fatty_acid_names))\n",
    "width = 0.35\n",
    "\n",
    "ax1.bar(x - width/2, base_rates, width, label='Base case', alpha=0.8)\n",
    "ax1.bar(x + width/2, strategy1_rates, width, label='With knockouts', alpha=0.8)\n",
    "ax1.set_xlabel('Fatty Acid Chain Length')\n",
    "ax1.set_ylabel('Production Rate (mmol/gDW/h)')\n",
    "ax1.set_title('Fatty Acid Production Rates')\n",
    "ax1.set_xticks(x)\n",
    "ax1.set_xticklabels(fatty_acid_names)\n",
    "ax1.legend()\n",
    "ax1.grid(True, alpha=0.3)\n",
    "\n",
    "# Plot 2: Cofactor requirements\n",
    "cofactor_names = list(cofactor_fluxes.keys())\n",
    "consumption_rates = [cofactor_fluxes[name]['consumption'] for name in cofactor_names]\n",
    "production_rates = [cofactor_fluxes[name]['production'] for name in cofactor_names]\n",
    "\n",
    "x2 = np.arange(len(cofactor_names))\n",
    "ax2.bar(x2 - width/2, consumption_rates, width, label='Consumption', alpha=0.8)\n",
    "ax2.bar(x2 + width/2, production_rates, width, label='Production', alpha=0.8)\n",
    "ax2.set_xlabel('Cofactor')\n",
    "ax2.set_ylabel('Flux (mmol/gDW/h)')\n",
    "ax2.set_title('Cofactor Requirements')\n",
    "ax2.set_xticks(x2)\n",
    "ax2.set_xticklabels(cofactor_names)\n",
    "ax2.legend()\n",
    "ax2.grid(True, alpha=0.3)\n",
    "\n",
    "plt.tight_layout()\n",
    "plt.show()"
   ]
  },
  {
   "cell_type": "markdown",
   "metadata": {},
   "source": [
    "## 9. Rate Analysis and Bottleneck Identification\n",
    "\n",
    "Identify potential rate-limiting steps and bottlenecks."
   ]
  },
  {
   "cell_type": "code",
   "execution_count": null,
   "metadata": {},
   "outputs": [],
   "source": [
    "# Perform flux variability analysis\n",
    "model_modified.objective = best_target\n",
    "fva_result = flux_variability_analysis(model_modified, fraction_of_optimum=0.9)\n",
    "\n",
    "# Find reactions with narrow flux ranges (potential bottlenecks)\n",
    "fva_result['flux_range'] = fva_result['maximum'] - fva_result['minimum']\n",
    "fva_result['flux_mean'] = (fva_result['maximum'] + fva_result['minimum']) / 2\n",
    "\n",
    "# Filter for reactions with significant flux and narrow ranges\n",
    "bottlenecks = fva_result[\n",
    "    (abs(fva_result['flux_mean']) > 0.1) & \n",
    "    (fva_result['flux_range'] < 0.1)\n",
    "].sort_values('flux_range')\n",
    "\n",
    "print(\"Potential bottleneck reactions (narrow flux ranges):\")\n",
    "print(bottlenecks.head(10))\n",
    "\n",
    "# Calculate theoretical maximum rates based on current constraints\n",
    "current_rate = results[best_target]['production_rate']\n",
    "target_rate = 30  # g/L/h target from project requirements\n",
    "\n",
    "# Estimate molecular weight (approximate for C8-C12 fatty acids)\n",
    "mw_estimate = 200  # g/mol (rough estimate)\n",
    "current_rate_g_per_L_h = current_rate * mw_estimate / 1000  # Convert mmol/gDW/h to g/L/h (rough)\n",
    "\n",
    "print(f\"\\nRate Analysis:\")\n",
    "print(f\"Current rate: {current_rate:.4f} mmol/gDW/h\")\n",
    "print(f\"Estimated current rate: {current_rate_g_per_L_h:.4f} g/L/h\")\n",
    "print(f\"Target rate: {target_rate} g/L/h\")\n",
    "print(f\"Rate gap: {target_rate / current_rate_g_per_L_h:.0f}x improvement needed\")"
   ]
  },
  {
   "cell_type": "markdown",
   "metadata": {},
   "source": [
    "## 10. Summary and Recommendations\n",
    "\n",
    "Summarize findings and provide recommendations for pathway optimization."
   ]
  },
  {
   "cell_type": "code",
   "execution_count": null,
   "metadata": {},
   "outputs": [],
   "source": [
    "# Create summary dataframe\n",
    "summary_data = {\n",
    "    'Metric': ['Base Production Rate', 'With Knockouts', 'Improvement', 'Rate Gap to Target'],\n",
    "    'C8 (mmol/gDW/h)': [\n",
    "        results.get('DM_C8', {}).get('production_rate', 0),\n",
    "        strategy1_results.get('DM_C8', 0),\n",
    "        f\"{((strategy1_results.get('DM_C8', 0) - results.get('DM_C8', {}).get('production_rate', 0)) / results.get('DM_C8', {}).get('production_rate', 1) * 100):.1f}%\",\n",
    "        f\"{target_rate / (current_rate_g_per_L_h or 1):.0f}x\"\n",
    "    ]\n",
    "}\n",
    "\n",
    "summary_df = pd.DataFrame(summary_data)\n",
    "print(\"SUMMARY OF RESULTS:\")\n",
    "print(\"=\" * 50)\n",
    "print(summary_df.to_string(index=False))\n",
    "\n",
    "print(\"\\nKEY FINDINGS:\")\n",
    "print(\"=\" * 50)\n",
    "print(\"1. Native E. coli fatty acid synthesis is limited\")\n",
    "print(\"2. Knockout strategies show modest improvements\")\n",
    "print(\"3. Significant rate gaps exist vs. 30 g/L/h target\")\n",
    "print(\"4. Cofactor availability may be limiting\")\n",
    "\n",
    "print(\"\\nRECOMMENDATIONS:\")\n",
    "print(\"=\" * 50)\n",
    "print(\"1. Implement reverse β-oxidation pathway\")\n",
    "print(\"2. Use cell-free systems to avoid maintenance costs\")\n",
    "print(\"3. Optimize cofactor regeneration systems\")\n",
    "print(\"4. Consider enzyme engineering for rate enhancement\")\n",
    "print(\"5. Test crude lysate systems for higher concentrations\")"
   ]
  }
 ],
 "metadata": {
  "kernelspec": {
   "display_name": "Python 3",
   "language": "python",
   "name": "python3"
  },
  "language_info": {
   "codemirror_mode": {
    "name": "ipython",
    "version": 3
   },
   "file_extension": ".py",
   "mimetype": "text/x-python",
   "name": "python",
   "nbconvert_exporter": "python",
   "pygments_lexer": "ipython3",
   "version": "3.12.0"
  }
 },
 "nbformat": 4,
 "nbformat_minor": 4
}